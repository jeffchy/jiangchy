{
 "cells": [
  {
   "cell_type": "code",
   "execution_count": 18,
   "metadata": {},
   "outputs": [],
   "source": [
    "import xml.dom.minidom as xmlp"
   ]
  },
  {
   "cell_type": "code",
   "execution_count": 19,
   "metadata": {},
   "outputs": [],
   "source": [
    "DOMTree = xmlp.parse('./sitemap.xml')"
   ]
  },
  {
   "cell_type": "code",
   "execution_count": 20,
   "metadata": {},
   "outputs": [],
   "source": [
    "collection = DOMTree.documentElement"
   ]
  },
  {
   "cell_type": "code",
   "execution_count": 21,
   "metadata": {},
   "outputs": [],
   "source": [
    "links = collection.getElementsByTagName(\"loc\")"
   ]
  },
  {
   "cell_type": "code",
   "execution_count": 22,
   "metadata": {},
   "outputs": [
    {
     "name": "stdout",
     "output_type": "stream",
     "text": [
      "https://jeffchy.github.io/2018/08/22/word2vec-introduction/\n",
      "https://jeffchy.github.io/2018/08/20/Image-Data-Augmentation/\n",
      "https://jeffchy.github.io/baidu_verify_dXyzlo70j3.html\n",
      "https://jeffchy.github.io/google6d0b8cd89b1ca580.html\n",
      "https://jeffchy.github.io/2018/08/10/Unsupervised-Neural-Dependency-Parsing/\n",
      "https://jeffchy.github.io/2018/08/10/Correlate-and-dependent/\n",
      "https://jeffchy.github.io/2018/08/06/DMV/\n",
      "https://jeffchy.github.io/2018/08/08/Inductive-Bias/\n",
      "https://jeffchy.github.io/2018/08/08/Prior-Distribution/\n",
      "https://jeffchy.github.io/2018/08/04/MLE/\n",
      "https://jeffchy.github.io/2018/08/07/GenDis/\n",
      "https://jeffchy.github.io/2018/08/05/Inside-Outside-Algorithm/\n",
      "https://jeffchy.github.io/2018/08/04/EM/\n",
      "https://jeffchy.github.io/2018/08/04/Naive-Bayes/\n",
      "https://jeffchy.github.io/2018/03/06/LeetCode-48-Rotate-Image/\n",
      "https://jeffchy.github.io/2018/03/07/LeetCode-26-Remove-Duplicates/\n",
      "https://jeffchy.github.io/2018/03/06/C-pointer/\n",
      "https://jeffchy.github.io/2018/03/06/LeetCode-794-Tic-Tac-Toe/\n",
      "https://jeffchy.github.io/about/index.html\n",
      "https://jeffchy.github.io/archives/index.html\n",
      "https://jeffchy.github.io/categories/index.html\n",
      "https://jeffchy.github.io/tags/index.html\n",
      "https://jeffchy.github.io/2016/12/04/Hello-Cocos-%E7%89%A2%E9%AA%9A%E7%AF%87/\n",
      "https://jeffchy.github.io/2016/12/15/LeetCode-203-Remove-Linked-List-Element/\n",
      "https://jeffchy.github.io/2017/02/04/LeetCode-2-Add-Two-Num/\n",
      "https://jeffchy.github.io/2017/01/17/Django-PART-I/\n",
      "https://jeffchy.github.io/2016/12/15/LeetCode-222-Count-Complete-Binary-Tree-Element/\n",
      "https://jeffchy.github.io/2017/01/12/2016%E7%A7%8B%E5%AD%A6%E6%9C%9F%E6%80%BB%E7%BB%93/\n",
      "https://jeffchy.github.io/2016/12/17/LeetCode-75-Sort-Colors/\n",
      "https://jeffchy.github.io/2017/01/18/Django-PART-III/\n",
      "https://jeffchy.github.io/2017/02/04/Machine-Learning-Note-ii/\n",
      "https://jeffchy.github.io/2017/02/01/Django-Project-Simple-Gallery-%E4%B8%80/\n",
      "https://jeffchy.github.io/2017/01/26/Django-Project-Simple-Gallery/\n",
      "https://jeffchy.github.io/2016/12/31/2016/\n",
      "https://jeffchy.github.io/2017/01/27/Machine-Learning-Note-%E4%B8%80/\n",
      "https://jeffchy.github.io/2016/12/10/Macro-Economics-Review/\n",
      "https://jeffchy.github.io/2017/01/13/MySQL-%E5%AE%89%E8%A3%85%E5%8F%8A%E9%85%8D%E7%BD%AE/\n",
      "https://jeffchy.github.io/2016/12/13/NKG-1937-12-13/\n",
      "https://jeffchy.github.io/2016/12/30/balabala/\n",
      "https://jeffchy.github.io/2017/01/13/Django-useful-learning-materials/\n",
      "https://jeffchy.github.io/2017/01/15/python3-class/\n",
      "https://jeffchy.github.io/2016/12/02/hello-hexo/\n",
      "https://jeffchy.github.io/2016/12/03/Hello-Cocos-iii-%E9%87%8D%E8%A6%81%E6%93%8D%E4%BD%9C%E5%8F%8A%E4%B8%80%E4%BA%9B%E5%9D%91/\n",
      "https://jeffchy.github.io/2016/12/12/Hello-8051/\n",
      "https://jeffchy.github.io/2016/12/03/Hello-Cocos-ii-Debugging-and-Structure/\n",
      "https://jeffchy.github.io/2016/12/10/%E7%AB%8B%E4%B8%AAFlag-%E6%88%91%E8%A6%81%E6%8A%8ALeetCode%E5%88%B7%E5%AE%8C/\n",
      "https://jeffchy.github.io/2017/01/15/python3-module-and-namespaces/\n",
      "https://jeffchy.github.io/2017/01/20/%E9%98%BF%E9%87%8C%E4%BA%91ECS-LNMP%E7%8E%AF%E5%A2%83%E6%90%AD%E5%BB%BA%E5%8F%8A%E5%B7%A5%E5%85%B7%E6%95%B4%E7%90%86/\n",
      "https://jeffchy.github.io/2016/12/09/DW-Bootstrap-%E5%88%B6%E4%BD%9C%E5%93%8D%E5%BA%94%E5%BC%8F%E9%9D%99%E6%80%81%E9%A1%B5%E9%9D%A2/\n",
      "https://jeffchy.github.io/2016/12/03/Hello-Cocos/\n",
      "https://jeffchy.github.io/2017/01/18/Django-Part-II/\n",
      "https://jeffchy.github.io/2016/12/15/LeetCode-1-Two-Sum/\n",
      "https://jeffchy.github.io/2017/01/23/Django-Part-IV-staticfiles/\n",
      "https://jeffchy.github.io/2016/12/15/LeetCode-405-Convert-A-Number-to-Hexadecimal/\n"
     ]
    }
   ],
   "source": [
    "for i in links:\n",
    "    print(i.childNodes[0].data)"
   ]
  },
  {
   "cell_type": "code",
   "execution_count": 15,
   "metadata": {},
   "outputs": [
    {
     "name": "stdout",
     "output_type": "stream",
     "text": [
      "[<DOM Text node \"'https://je'...\">]\n"
     ]
    }
   ],
   "source": []
  },
  {
   "cell_type": "code",
   "execution_count": null,
   "metadata": {},
   "outputs": [],
   "source": []
  }
 ],
 "metadata": {
  "kernelspec": {
   "display_name": "Python 3",
   "language": "python",
   "name": "python3"
  },
  "language_info": {
   "codemirror_mode": {
    "name": "ipython",
    "version": 3
   },
   "file_extension": ".py",
   "mimetype": "text/x-python",
   "name": "python",
   "nbconvert_exporter": "python",
   "pygments_lexer": "ipython3",
   "version": "3.6.2"
  }
 },
 "nbformat": 4,
 "nbformat_minor": 2
}
